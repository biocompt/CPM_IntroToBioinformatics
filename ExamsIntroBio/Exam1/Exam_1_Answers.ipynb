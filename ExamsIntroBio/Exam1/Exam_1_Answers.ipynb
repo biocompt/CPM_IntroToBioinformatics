{
 "cells": [
  {
   "cell_type": "markdown",
   "metadata": {},
   "source": [
    "First of all, sorry if my English is not the best. **Let's work!**"
   ]
  },
  {
   "cell_type": "markdown",
   "metadata": {},
   "source": [
    "**Problem 1**\n",
    "\n",
    "First, I need to copy the 'Locus_Germplasm_Phenotype_20130122.txt' file to my exam's folder."
   ]
  },
  {
   "cell_type": "code",
   "execution_count": null,
   "metadata": {},
   "outputs": [],
   "source": [
    "cp Locus_Germplasm_Phenotype_20130122.txt /home/osboxes/Course/Accelerated_Intro_WilkinsonExams/"
   ]
  },
  {
   "cell_type": "markdown",
   "metadata": {},
   "source": [
    "To create the Jupyter Notebook using the 'bash' kernel"
   ]
  },
  {
   "cell_type": "code",
   "execution_count": null,
   "metadata": {},
   "outputs": [],
   "source": [
    "touch Exam_1_Answers.ipynb"
   ]
  },
  {
   "cell_type": "markdown",
   "metadata": {},
   "source": [
    "Created! Let's move on."
   ]
  },
  {
   "cell_type": "markdown",
   "metadata": {},
   "source": [
    "**Problem 2**\n"
   ]
  },
  {
   "cell_type": "markdown",
   "metadata": {},
   "source": [
    "To show the information required in the Wilkinson_Exams' folder we need to open that folder, and after that write to correct command:"
   ]
  },
  {
   "cell_type": "code",
   "execution_count": null,
   "metadata": {},
   "outputs": [],
   "source": [
    "cd Course/Accelerated_Intro_WilkinsonExams\n",
    "ls -lth"
   ]
  },
  {
   "cell_type": "markdown",
   "metadata": {},
   "source": [
    "**1)** The ownership of all the files is osboxes, our user.\n",
    "**2)** The files-size are changeable: the 'Locus_Germplasm_Phenotype_20130122.txt\"'s size is 1,2 Mb, as well as \"conv.txt\". However, \"how_to_convert.txt and \"Disclaimer\"'s sizes are just 141 and 147 bytes."
   ]
  },
  {
   "cell_type": "markdown",
   "metadata": {},
   "source": [
    "About permissions and ownership, all the files in the folder own to osboxes, so, the permissions are the same for all the files:\n",
    "\n",
    "All the files cand be write and read by the user and the group, but they can't be executed. However, it only can be read for all."
   ]
  },
  {
   "cell_type": "markdown",
   "metadata": {},
   "source": [
    "**Problem 3**"
   ]
  },
  {
   "cell_type": "code",
   "execution_count": null,
   "metadata": {},
   "outputs": [],
   "source": [
    "head -1 Locus_Germplasm_Phenotype_20130122.txt"
   ]
  },
  {
   "cell_type": "markdown",
   "metadata": {},
   "source": [
    "With the head command we display the first XXX lines (x = number we've decided). You required us only the header, so we choose *-1* because we want just the first line (header)."
   ]
  },
  {
   "cell_type": "markdown",
   "metadata": {},
   "source": [
    "**Problem 4**"
   ]
  },
  {
   "cell_type": "code",
   "execution_count": null,
   "metadata": {},
   "outputs": [],
   "source": [
    "wc -l Locus_Germplasm_Phenotype_20130122.txt"
   ]
  },
  {
   "cell_type": "markdown",
   "metadata": {},
   "source": [
    "We use **wc** command to count all the lines, words and bytes in a file. But you ask us about the lines, so we used the **-l** command to show only the lines."
   ]
  },
  {
   "cell_type": "markdown",
   "metadata": {},
   "source": [
    "**Problem 5**"
   ]
  },
  {
   "cell_type": "code",
   "execution_count": null,
   "metadata": {},
   "outputs": [],
   "source": [
    "touch Data_Only.csv\n",
    "cat Locus_Germplasm_Phenotype_20130122.txt | tail -7215 > Data_Only.csv\n",
    "cat Data_Only.csv"
   ]
  },
  {
   "cell_type": "code",
   "execution_count": null,
   "metadata": {},
   "outputs": [],
   "source": [
    "wc -l Data_Only.csv"
   ]
  },
  {
   "cell_type": "markdown",
   "metadata": {},
   "source": [
    "First, we create the file. After that, we need to make a pipe. We open the file we want to write that data in another one, and then we select from the tail all the lines except the first (in this case, if our file has 7216 lines, from tail we select 7215. We send that info to our new file and then we opened and check if has the correct number of lines."
   ]
  },
  {
   "cell_type": "markdown",
   "metadata": {},
   "source": [
    "**Problem 6**"
   ]
  },
  {
   "cell_type": "code",
   "execution_count": null,
   "metadata": {},
   "outputs": [],
   "source": [
    "grep -in \"root\" Locus_Germplasm_Phenotype_20130122.txt"
   ]
  },
  {
   "cell_type": "markdown",
   "metadata": {},
   "source": [
    "I supposed that you are asking us about the number line, that's why we use grep -in. This command show us the number of the line that *root* appears in the text."
   ]
  },
  {
   "cell_type": "markdown",
   "metadata": {},
   "source": [
    "**Problem 7**"
   ]
  },
  {
   "cell_type": "code",
   "execution_count": null,
   "metadata": {},
   "outputs": [],
   "source": [
    "rm Root-associated-Loci.txt\n",
    "grep \"root\" Locus_Germplasm_Phenotype_20130122.txt | grep -Eo \"\\AT[0-9]G[0-9]{5}\" > Root-associated-Loci.txt\n",
    "head -20 Root-associated-Loci.txt"
   ]
  },
  {
   "cell_type": "markdown",
   "metadata": {},
   "source": [
    "First, we need to search for the specific AGI code (right part of the pipeline). After that, we say to search only the AGI code for roots. After that, write all that data in a new file."
   ]
  },
  {
   "cell_type": "markdown",
   "metadata": {},
   "source": [
    "**Problem 8**"
   ]
  },
  {
   "cell_type": "code",
   "execution_count": null,
   "metadata": {},
   "outputs": [],
   "source": [
    "grep \"root\" Locus_Germplasm_Phenotype_20130122.txt | grep -Eo \"\\s[0-9]+$\" > Root-associated-Publications.txt\n",
    "head -20 Root-associated-Publications.txt"
   ]
  },
  {
   "cell_type": "markdown",
   "metadata": {},
   "source": [
    "Finally! After 30 tries (at least!) I did it. We want to select only numbers, preceded by a space. But this numbers are at the end of the file, so we need to say it to the terminal with the **$**. Then, say that we only want the root ones and then create the file."
   ]
  },
  {
   "cell_type": "markdown",
   "metadata": {},
   "source": [
    "**Problem 9**"
   ]
  },
  {
   "cell_type": "code",
   "execution_count": null,
   "metadata": {},
   "outputs": [],
   "source": [
    "grep -Eo \"\\AT[1-5]\" Root-associated-Loci.txt"
   ]
  },
  {
   "cell_type": "markdown",
   "metadata": {},
   "source": [
    "If you want to check that all of the chromosomes appear in your database, you can use that command and you need to check if all the numbers (between 1 and 5 appears in the database. In this case, it is!.\n",
    "\n",
    "You also can do it one by one, for example \\AT1, \\AT2, etc."
   ]
  }
 ],
 "metadata": {
  "kernelspec": {
   "display_name": "Bash",
   "language": "bash",
   "name": "bash"
  },
  "language_info": {
   "codemirror_mode": "shell",
   "file_extension": ".sh",
   "mimetype": "text/x-sh",
   "name": "bash"
  }
 },
 "nbformat": 4,
 "nbformat_minor": 2
}
